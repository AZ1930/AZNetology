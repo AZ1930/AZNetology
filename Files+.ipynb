{
 "cells": [
  {
   "cell_type": "code",
   "execution_count": 5,
   "metadata": {},
   "outputs": [
    {
     "name": "stdout",
     "output_type": "stream",
     "text": [
      "Выполнено, смотри файл\n"
     ]
    }
   ],
   "source": [
    "#Задача 1. Переведите содержимое файла purchase_log.txt в словарь purchases вида: {‘1840e0b9d4’: ‘Продукты’, …}\n",
    "import json\n",
    "dict_new = {}\n",
    "with open('purchase_log.txt','r',encoding='utf-8') as f:\n",
    "    for line in f:\n",
    "        dict_ = json.loads(line)\n",
    "        dict_new[ dict_['user_id'] ] = dict_['category']\n",
    "with open('results.txt', 'w') as f_2:\n",
    "    f_2.write(str(dict_new))    \n",
    "f.close()\n",
    "print('Выполнено, смотри файл results.txt')"
   ]
  },
  {
   "cell_type": "code",
   "execution_count": 36,
   "metadata": {},
   "outputs": [
    {
     "name": "stdout",
     "output_type": "stream",
     "text": [
      "purchase_log.txt -  [{'user_id': 'user_id', 'category': 'category'}, {'user_id': '7131a87344', 'category': 'Электроника'}, {'user_id': 'e81975bcc8', 'category': 'Электроника'}, {'user_id': 'c365a14eea', 'category': 'Электроника'}, {'user_id': '3c28d01383', 'category': 'Досуг'}, {'user_id': '6948899ab3', 'category': 'Продукты'}, {'user_id': '610a548d34', 'category': 'Электроника'}, {'user_id': 'cb9fd67953', 'category': 'Бытовая техника'}, {'user_id': 'df85c3cd61', 'category': 'Бытовая техника'}] <class 'list'>\n",
      "category= category <class 'str'>\n",
      "category= Электроника <class 'str'>\n",
      "category= Бытовая техника <class 'str'>\n",
      "Выполнено. См. файл \n"
     ]
    }
   ],
   "source": [
    "#Задача 2.Для каждого user_id в файле visit_log.csv определите третий столбец с категорией покупки \n",
    "# (если покупка была, сам файл visit_log.csv изменять не надо). Запишите в файл funnel.csv визиты \n",
    "# из файла visit_log.csv, в которых были покупки с указанием категории. \n",
    "# Учтите условия на данные:\n",
    "# содержимое purchase_log.txt помещается в оперативную память компьютера содержимое visit_log.csv - нет; \n",
    "# используйте только построчную обработку этого файла\n",
    "purchase_list = []\n",
    "\n",
    "with open('purchase_log.txt','r',encoding='utf-8') as f_purchase:# содержимое purchase_log.txt помещается в оперативную память компьютера \n",
    "    for line in f_purchase:\n",
    "        dict_purchase = json.loads(line)\n",
    "        purchase_list.append(dict_purchase)\n",
    "print('purchase_log.txt - ',purchase_list, type(purchase_list))\n",
    "\n",
    "with open('funnel.csv', 'w', encoding='utf-8') as f_result: \n",
    "    with open('visit_log.csv','r',encoding='utf-8') as f_visit:\n",
    "        for line in f_visit:\n",
    "            user_id_visit =line.strip().split(',')[0]\n",
    "#             print('строка из визитов ',user_id_visit)\n",
    "            for c in purchase_list:\n",
    "                if (c['user_id'] == user_id_visit):\n",
    "#                     print( 'c[\"user_id\"]', c['user_id'])\n",
    "                    category = c['category']\n",
    "                    print('category=',category,type(category))\n",
    "                funnel_line = line.rstrip() + ',' + str(category) + '\\r'\n",
    "            f_result.write(funnel_line)\n",
    "print('Выполнено. См. файл funnel.csv')"
   ]
  },
  {
   "cell_type": "code",
   "execution_count": null,
   "metadata": {},
   "outputs": [],
   "source": []
  },
  {
   "cell_type": "code",
   "execution_count": null,
   "metadata": {},
   "outputs": [],
   "source": []
  }
 ],
 "metadata": {
  "kernelspec": {
   "display_name": "Python 3",
   "language": "python",
   "name": "python3"
  },
  "language_info": {
   "codemirror_mode": {
    "name": "ipython",
    "version": 3
   },
   "file_extension": ".py",
   "mimetype": "text/x-python",
   "name": "python",
   "nbconvert_exporter": "python",
   "pygments_lexer": "ipython3",
   "version": "3.8.5"
  }
 },
 "nbformat": 4,
 "nbformat_minor": 4
}
