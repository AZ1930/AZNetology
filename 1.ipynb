{
 "cells": [
  {
   "cell_type": "markdown",
   "metadata": {},
   "source": [
    "Задача 1."
   ]
  },
  {
   "cell_type": "code",
   "execution_count": 3,
   "metadata": {},
   "outputs": [
    {
     "name": "stdout",
     "output_type": "stream",
     "text": [
      "Фраза 1 длиннее фразы 2\n"
     ]
    }
   ],
   "source": [
    "phrase_1 = 'Насколько проще было бы писать программы, если бы не заказчики'\n",
    "phrase_2 = '640Кб должно хватить для любых задач. Билл Гейтс (по легенде)'\n",
    "if len(phrase_1)>len(phrase_2):\n",
    "    print('Фраза 1 длиннее фразы 2')"
   ]
  },
  {
   "cell_type": "code",
   "execution_count": 10,
   "metadata": {},
   "outputs": [
    {
     "name": "stdout",
     "output_type": "stream",
     "text": [
      "Фраза 2 длиннее фразы 1\n"
     ]
    }
   ],
   "source": [
    "phrase_1 = '640Кб должно хватить для любых задач. Билл Гейтс (по легенде)'\n",
    "phrase_2 = 'Насколько проще было бы писать программы, если бы не заказчики'\n",
    "if len(phrase_1) < len(phrase_2):\n",
    "    print('Фраза 2 длиннее фразы 1')"
   ]
  },
  {
   "cell_type": "code",
   "execution_count": 13,
   "metadata": {},
   "outputs": [
    {
     "name": "stdout",
     "output_type": "stream",
     "text": [
      "Фразы равной длины\n"
     ]
    }
   ],
   "source": [
    "phrase_1 = 'Насколько проще было бы писать программы, если бы не заказчики'\n",
    "phrase_2 = 'Насколько проще было бы писать программы, если бы не заказчики'\n",
    "if len(phrase_1)==len(phrase_2):\n",
    "    print('Фразы равной длины')"
   ]
  },
  {
   "cell_type": "code",
   "execution_count": 17,
   "metadata": {},
   "outputs": [
    {
     "name": "stdout",
     "output_type": "stream",
     "text": [
      "Фраза 2 длиннее фразы 1\n"
     ]
    }
   ],
   "source": [
    "phrase_1 = '640Кб должно хватить для любых задач. Билл Гейтс (по легенде)'\n",
    "phrase_2 = 'Насколько проще было бы писать программы, если бы не заказчики'\n",
    "if len(phrase_1) < len(phrase_2):\n",
    "    print('Фраза 2 длиннее фразы 1')\n",
    "elif len(phrase_1) == len(phrase_2):\n",
    "    print('Фразы равной длины')\n",
    "else:\n",
    "    print('Фраза 1 длиннее фразы 2')"
   ]
  },
  {
   "cell_type": "raw",
   "metadata": {},
   "source": [
    "Задача 2."
   ]
  },
  {
   "cell_type": "code",
   "execution_count": 20,
   "metadata": {},
   "outputs": [
    {
     "name": "stdout",
     "output_type": "stream",
     "text": [
      "Вискосный год\n"
     ]
    }
   ],
   "source": [
    "year = 2000\n",
    "if (year%4==0):\n",
    "    print('Вискосный год')\n",
    "else:\n",
    "    print('Обычный год')\n",
    "    "
   ]
  },
  {
   "cell_type": "markdown",
   "metadata": {},
   "source": [
    "Задача 3."
   ]
  },
  {
   "cell_type": "code",
   "execution_count": 9,
   "metadata": {},
   "outputs": [
    {
     "name": "stdout",
     "output_type": "stream",
     "text": [
      "Введите день рождения:30\n",
      "Введите месяц рождения (словом):январь\n",
      "Ваш знак Зодиака:  Вололей\n"
     ]
    }
   ],
   "source": [
    "day = int(input ('Введите день рождения:'))\n",
    "month = input('Введите месяц рождения (словом):')\n",
    "if ((month == 'март' and day >= 21) or (month == 'апрель' and day <= 20)):\n",
    "    print('Ваш знак Зодиака: ', 'Овен')\n",
    "elif ((month == 'апрель' and day > 21) or (month == 'май' and day <= 21)):\n",
    "    print('Ваш знак Зодиака: ', 'Телец')\n",
    "elif ((month == 'май' and day > 21) or (month == 'июнь' and day <= 21)):\n",
    "    print('Ваш знак Зодиака: ', 'Близнецы')\n",
    "elif ((month == 'июнь' and day > 21) or (month == 'июль' and day <= 22)):\n",
    "    print('Ваш знак Зодиака: ', 'Рак')\n",
    "elif ((month == 'июль' and day > 22) or (month == 'август' and day <= 21)):\n",
    "    print('Ваш знак Зодиака: ', 'Лев')\n",
    "elif ((month == 'август' and day > 21) or (month == 'сентябрь' and day <= 23)):\n",
    "    print('Ваш знак Зодиака: ', 'Дева')\n",
    "elif ((month == 'сентябрь' and day > 23) or (month == 'октябрь' and day <= 23)):\n",
    "    print('Ваш знак Зодиака: ', 'Весы')\n",
    "elif ((month == 'октябрь' and day > 23) or (month == 'ноябрь' and day <= 22)):\n",
    "    print('Ваш знак Зодиака: ', 'Скорпион')\n",
    "elif ((month == 'ноябрь' and day > 22) or (month == 'декабрь' and day <= 22)):\n",
    "    print('Ваш знак Зодиака: ', 'Стрелец')\n",
    "elif ((month == 'декабрь' and day > 22) or (month == 'январь' and day <= 20)):\n",
    "    print('Ваш знак Зодиака: ', 'Козерог')\n",
    "elif ((month == 'январь' and day > 20) or (month == 'февраль' and day <= 19)):\n",
    "    print('Ваш знак Зодиака: ', 'Вололей')\n",
    "elif ((month == 'февраль' and day > 19) or (month == 'март' and day <= 20)):\n",
    "    print('Ваш знак Зодиака: ', 'Рыбы')\n",
    "          "
   ]
  },
  {
   "cell_type": "markdown",
   "metadata": {},
   "source": [
    "Задача 4."
   ]
  },
  {
   "cell_type": "code",
   "execution_count": 43,
   "metadata": {},
   "outputs": [
    {
     "name": "stdout",
     "output_type": "stream",
     "text": [
      "Коробка №2\n"
     ]
    }
   ],
   "source": [
    "width = 16\n",
    "length = 20\n",
    "height = 22\n",
    "if width < 15 and length < 15 and height < 15:\n",
    "    print ('Коробка №1')\n",
    "elif ((width > 15 and width < 50) or (length > 15 and length < 50) or (height > 15 and height < 50)) and (not (length > 200)):\n",
    "    print ('Коробка №2')\n",
    "elif (length > 200):\n",
    "    print('Упаковка для лыж')\n",
    "else:\n",
    "    print('Коробка №3')\n",
    "    "
   ]
  },
  {
   "cell_type": "markdown",
   "metadata": {},
   "source": [
    "Задача 5."
   ]
  },
  {
   "cell_type": "code",
   "execution_count": 67,
   "metadata": {},
   "outputs": [
    {
     "name": "stdout",
     "output_type": "stream",
     "text": [
      "Номер вашего билета? 123456\n",
      "Обычный билет\n"
     ]
    }
   ],
   "source": [
    "num = int(input('Номер вашего билета? '))\n",
    "ch_1 = num // 100000\n",
    "ch_2 = (num - (ch_1*100000))//10000\n",
    "ch_3 = (num - (ch_1*100000) - (ch_2*10000))//1000\n",
    "ch_4 = (num - (ch_1*100000) - (ch_2*10000) - (ch_3*1000))//100\n",
    "ch_5 = (num - (ch_1*100000) - (ch_2*10000) - (ch_3*1000) - (ch_4*100))//10\n",
    "ch_6 = (num - (ch_1*100000) - (ch_2*10000) - (ch_3*1000) - (ch_4*100) - (ch_5*10))\n",
    "if ch_1 + ch_2 + ch_3 == ch_4 + ch_5 + ch_6:\n",
    "    print('Счастливый билет!')\n",
    "else:\n",
    "    print('Обычный билет')\n",
    "    "
   ]
  },
  {
   "cell_type": "markdown",
   "metadata": {},
   "source": [
    "Задача 6."
   ]
  },
  {
   "cell_type": "code",
   "execution_count": 9,
   "metadata": {},
   "outputs": [
    {
     "name": "stdout",
     "output_type": "stream",
     "text": [
      "Введите название фигуры треугольник\n",
      "Введите сторону А 3\n",
      "Введите сторону B 4\n",
      "Введите сторону C 5\n",
      "площадь треугольника = 6\n"
     ]
    }
   ],
   "source": [
    "fig =  input('Введите название фигуры ')\n",
    "if fig == 'круг':\n",
    "    rad = int(input('Введите радиус круга '))\n",
    "    print('Площадь круга = ', rad * rad * 3.14)\n",
    "elif fig == 'треугольник':\n",
    "    a = int(input('Введите сторону А '))\n",
    "    b = int(input('Введите сторону B '))\n",
    "    c = int(input('Введите сторону C '))\n",
    "    p = (a + b + c)/2\n",
    "    print('площадь треугольника =', (p * (p - a) * (p - b) * (p - c)) ** 0.5)\n",
    "elif fig == 'прямоугольник':\n",
    "    d = int(input('Введите длину '))\n",
    "    l = int(input('Введите ширину '))\n",
    "    print('Площадь прямоугольника =', d * l)\n",
    "else:\n",
    "    print('такой фигуры в выборе нет')\n",
    "    "
   ]
  }
 ],
 "metadata": {
  "kernelspec": {
   "display_name": "Python 3",
   "language": "python",
   "name": "python3"
  },
  "language_info": {
   "codemirror_mode": {
    "name": "ipython",
    "version": 3
   },
   "file_extension": ".py",
   "mimetype": "text/x-python",
   "name": "python",
   "nbconvert_exporter": "python",
   "pygments_lexer": "ipython3",
   "version": "3.8.5"
  }
 },
 "nbformat": 4,
 "nbformat_minor": 4
}
