{
 "cells": [
  {
   "cell_type": "code",
   "execution_count": 121,
   "metadata": {},
   "outputs": [
    {
     "name": "stdout",
     "output_type": "stream",
     "text": [
      "Количество элементов массива 10\n",
      "[9 8 7 6 5 4 3 2 1 0]\n"
     ]
    }
   ],
   "source": [
    "#Задача 1.\n",
    "#Создайте numpy array с элементами от числа N до 0 (например, для N = 10 это будет array([9, 8, 7, 6, 5, 4, 3, 2, 1, 0])).\n",
    "import numpy as np\n",
    "quantity_element = int(input('Количество элементов массива '))\n",
    "# p = np.arange(quantity_element,0, - 1)\n",
    "# print(type(p))\n",
    "z = np.arange(quantity_element)\n",
    "z = z[::-1]\n",
    "print(z)\n"
   ]
  },
  {
   "cell_type": "code",
   "execution_count": 126,
   "metadata": {},
   "outputs": [
    {
     "name": "stdout",
     "output_type": "stream",
     "text": [
      "Количество чисел для создания диагональной матрицы 16\n",
      "[[15 14 13 12]\n",
      " [11 10  9  8]\n",
      " [ 7  6  5  4]\n",
      " [ 3  2  1  0]]\n",
      "Сумма главной диагонали = 30\n",
      "Сумма побочной диагонали = 30\n"
     ]
    }
   ],
   "source": [
    "#Задача 2.\n",
    "#Создайте диагональную матрицу с элементами от N до 0. Посчитайте сумму ее значений на диагонали.\n",
    "quantity_element_2 = int(input('Количество чисел для создания диагональной матрицы '))\n",
    "dim = int(quantity_element_2**0.5)\n",
    "if (quantity_element_2**0.5)%1 == 0:\n",
    "    a = np.arange(quantity_element_2 -1, -1, - 1).reshape(dim,dim)\n",
    "    print(a)\n",
    "    sum_first_diagonal = sum(a[i][i] for i in range(dim))\n",
    "    print('Сумма главной диагонали =', sum_first_diagonal)\n",
    "    sum_second_diagonal = sum(a[i][dim - 1 - i] for i in range(dim))\n",
    "    print('Сумма побочной диагонали =', sum_second_diagonal)\n",
    "else:\n",
    "    print('Невозможно создать диагональную матрицу')"
   ]
  },
  {
   "cell_type": "code",
   "execution_count": 129,
   "metadata": {},
   "outputs": [
    {
     "name": "stdout",
     "output_type": "stream",
     "text": [
      "Корни : [ 0.46666667  3.84444444 -5.55555556]\n"
     ]
    }
   ],
   "source": [
    "#Задача 3.\n",
    "#Решите систему уравнений:\n",
    "# 4x + 2y + z = 4\n",
    "# x + 3y = 12\n",
    "# 5y + 4z = -3\n",
    "import numpy as np\n",
    "# коэффициенты в левой части\n",
    "a = np.array([[4, 2, 1], [1, 3, 0], [0, 5, 4]])\n",
    "# значения в правой части\n",
    "b = np.array([4, 12, -3])\n",
    "x = np.linalg.solve(a, b)\n",
    "print ('Корни :',x) "
   ]
  },
  {
   "cell_type": "code",
   "execution_count": null,
   "metadata": {},
   "outputs": [],
   "source": [
    "#Задача 4.Условие.\n",
    "#В материалах занятия раздел “Задача 4 домашнего задания”\n",
    "Имеется матрица покупок в интернет-магазине. \n",
    "Столбец А - ID пользователя. \n",
    "Остальные столбцы - количество покупок категорий товаров этим пользователем:\n",
    "from IPython.display import Image\n",
    "Image(\"user_matrix.JPG\")\n"
   ]
  },
  {
   "cell_type": "markdown",
   "metadata": {},
   "source": [
    "users_stats = np.array(\n",
    "    [\n",
    "        [2, 1, 0, 0, 0, 0],\n",
    "        [1, 1, 2, 1, 0, 0],\n",
    "        [2, 0, 1, 0, 0, 0],\n",
    "        [1, 1, 2, 1, 0, 1],\n",
    "        [0, 0, 1, 2, 0, 0],\n",
    "        [0, 0, 0, 0, 0, 5],\n",
    "        [1, 0, 0, 0, 0, 0],\n",
    "        [0, 1, 1, 0, 0, 0],\n",
    "        [0, 0, 0, 1, 1, 3],\n",
    "        [1, 0, 0, 2, 1, 4]\n",
    "    ], \n",
    "    np.int32\n",
    ")\n",
    "На сайт заходит очередной посетитель, о покупках которого известно следующее:\n",
    "next_user_stats = np.array([0, 1, 2, 0, 0, 0])\n",
    "Найдите самого похожего пользователя. \n",
    "Т. е. посчитайте косинусное сходство между этим пользователем \n",
    "и всеми пользователями из массива user_stats"
   ]
  },
  {
   "cell_type": "code",
   "execution_count": 95,
   "metadata": {},
   "outputs": [
    {
     "name": "stdout",
     "output_type": "stream",
     "text": [
      "Косинусное сходство с новым пользователем: [0.2        0.84515425 0.4        0.79056942 0.4        0.\n",
      " 0.         0.9486833  0.         0.        ]\n",
      "ID самого похожего пользователя -  8\n"
     ]
    }
   ],
   "source": [
    "# Задача 4.\n",
    "import numpy as np\n",
    "users_stats = np.array(\n",
    "    [\n",
    "        [2, 1, 0, 0, 0, 0],\n",
    "        [1, 1, 2, 1, 0, 0],\n",
    "        [2, 0, 1, 0, 0, 0],\n",
    "        [1, 1, 2, 1, 0, 1],\n",
    "        [0, 0, 1, 2, 0, 0],\n",
    "        [0, 0, 0, 0, 0, 5],\n",
    "        [1, 0, 0, 0, 0, 0],\n",
    "        [0, 1, 1, 0, 0, 0],\n",
    "        [0, 0, 0, 1, 1, 3],\n",
    "        [1, 0, 0, 2, 1, 4]\n",
    "    ], \n",
    "    np.int32\n",
    ")\n",
    "\n",
    "next_user_stats = np.array([0, 1, 2, 0, 0, 0])\n",
    "\n",
    "similarity_scores = users_stats.dot(next_user_stats) / (np.linalg.norm(users_stats, axis=1) * np.linalg.norm(next_user_stats))\n",
    "print('Косинусное сходство с новым пользователем:',similarity_scores)\n",
    "print('ID самого похожего пользователя - ',similarity_scores.argmax(axis=0)+1)"
   ]
  }
 ],
 "metadata": {
  "kernelspec": {
   "display_name": "Python 3",
   "language": "python",
   "name": "python3"
  },
  "language_info": {
   "codemirror_mode": {
    "name": "ipython",
    "version": 3
   },
   "file_extension": ".py",
   "mimetype": "text/x-python",
   "name": "python",
   "nbconvert_exporter": "python",
   "pygments_lexer": "ipython3",
   "version": "3.8.5"
  }
 },
 "nbformat": 4,
 "nbformat_minor": 4
}
