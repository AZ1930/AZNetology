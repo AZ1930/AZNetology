{
 "cells": [
  {
   "cell_type": "markdown",
   "metadata": {},
   "source": [
    "Задача 1.\n",
    "Дана переменная, в которой хранится словарь, содержащий гео-метки \n",
    "для каждого пользователя (пример структуры данных приведен ниже). \n",
    "Вам необходимо написать программу, которая выведет на экран множество \n",
    "уникальных гео-меток всех пользователей.\n",
    "Пример работы программы:\n",
    "\n",
    "ids = {'user1': [213, 213, 213, 15, 213],\n",
    "'user2': [54, 54, 119, 119, 119],\n",
    "'user3': [213, 98, 98, 35]}\n",
    "Результат: {98, 35, 15, 213, 54, 119}\n"
   ]
  },
  {
   "cell_type": "code",
   "execution_count": 62,
   "metadata": {},
   "outputs": [
    {
     "name": "stdout",
     "output_type": "stream",
     "text": [
      "Результат:  [213, 15, 54, 119, 98, 35]\n"
     ]
    }
   ],
   "source": [
    "ids = {'user1': [213, 213, 213, 15, 213],\n",
    "'user2': [54, 54, 119, 119, 119],\n",
    "'user3': [213, 98, 98, 35]}\n",
    "f = (list(ids.values()))\n",
    "# создание общего списка из всех значений\n",
    "spisok = []\n",
    "for i in range(len(f)):\n",
    "    for j in range(len(f[i])):\n",
    "        spisok.append(f[i] [j])\n",
    "# удаление повторяющихся значений\n",
    "i = 0\n",
    "while i < len(spisok):    \n",
    "    j = i + 1\n",
    "    while j < len(spisok):\n",
    "        if (spisok[i] != spisok[j]):\n",
    "            j = j + 1\n",
    "        else:\n",
    "            del(spisok[j])\n",
    "    i = i + 1    \n",
    "print('Результат: ', spisok)\n"
   ]
  },
  {
   "cell_type": "markdown",
   "metadata": {},
   "source": [
    "Задача 2.\n",
    "Дана переменная, в которой хранится список поисковых запросов пользователя (пример структуры данных приведен ниже). Вам необходимо написать программу, которая выведет на экран распределение количества слов в запросах в требуемом виде.\n",
    "\n",
    "Пример работы программы:\n",
    "\n",
    "queries = [\n",
    "‘смотреть сериалы онлайн’,\n",
    "‘новости спорта’,\n",
    "‘афиша кино’,\n",
    "‘курс доллара’,\n",
    "‘сериалы этим летом’,\n",
    "‘курс по питону’,\n",
    "‘сериалы про спорт’,\n",
    "]\n",
    "Результат:\n",
    "\n",
    "Поисковых запросов, содержащих 2 слов(а): 42.86%\n",
    "Поисковых запросов, содержащих 3 слов(а): 57.14%"
   ]
  },
  {
   "cell_type": "code",
   "execution_count": 173,
   "metadata": {},
   "outputs": [
    {
     "name": "stdout",
     "output_type": "stream",
     "text": [
      "Поисковых запросов, содержащих 2 слов(а):  42.86%\n",
      "Поисковых запросов, содержащих 3 слов(а):  57.14%\n"
     ]
    }
   ],
   "source": [
    "queries = [\n",
    "'смотреть сериалы онлайн',\n",
    "'новости спорта',\n",
    "'афиша кино',\n",
    "'курс доллара',\n",
    "'сериалы этим летом',\n",
    "'курс по питону',\n",
    "'сериалы про спорт',\n",
    "]\n",
    "double = 0 # количество запросов из двух слов\n",
    "triple = 0 # количество запросов из трёх слов\n",
    "for i in range(len(queries)):\n",
    "    if len(queries[i].split(' ')) == 2:\n",
    "        double = double + 1\n",
    "    elif len(queries[i].split(' ')) == 3:\n",
    "        triple = triple + 1\n",
    "print('Поисковых запросов, содержащих 2 слов(а): ', '{:.2%}'.format(double/len(queries)))\n",
    "print('Поисковых запросов, содержащих 3 слов(а): ', '{:.2%}'.format(triple/len(queries)))\n",
    "    "
   ]
  },
  {
   "cell_type": "markdown",
   "metadata": {},
   "source": [
    "Задача 3.\n",
    "Дана переменная, в которой хранится информация о затратах и доходе рекламных кампаний по различным источникам. \n",
    "Необходимо дополнить исходную структуру показателем ROI, \n",
    "который рассчитаем по формуле: (revenue / cost - 1) * 100\n",
    "\n",
    "Пример работы программы:\n",
    "\n",
    "results = {\n",
    "‘vk’: {‘revenue’: 103, ‘cost’: 98},\n",
    "‘yandex’: {‘revenue’: 179, ‘cost’: 153},\n",
    "‘facebook’: {‘revenue’: 103, ‘cost’: 110},\n",
    "‘adwords’: {‘revenue’: 35, ‘cost’: 34},\n",
    "‘twitter’: {‘revenue’: 11, ‘cost’: 24},\n",
    "}\n",
    "Результат:\n",
    "\n",
    "{‘adwords’: {‘ROI’: 2.94, ‘cost’: 34, ‘revenue’: 35},\n",
    "‘facebook’: {‘ROI’: -6.36, ‘cost’: 110, ‘revenue’: 103},\n",
    "‘twitter’: {‘ROI’: -54.17, ‘cost’: 24, ‘revenue’: 11},\n",
    "‘vk’: {‘ROI’: 5.1, ‘cost’: 98, ‘revenue’: 103},\n",
    "‘yandex’: {‘ROI’: 16.99, ‘cost’: 153, ‘revenue’: 179}}"
   ]
  },
  {
   "cell_type": "code",
   "execution_count": 172,
   "metadata": {},
   "outputs": [
    {
     "name": "stdout",
     "output_type": "stream",
     "text": [
      "adwords : {'revenue': 35, 'cost': 34, 'ROI': '2.94'}\n",
      "facebook : {'revenue': 103, 'cost': 110, 'ROI': '-6.36'}\n",
      "twitter : {'revenue': 11, 'cost': 24, 'ROI': '-54.17'}\n",
      "vk : {'revenue': 103, 'cost': 98, 'ROI': '5.10'}\n",
      "yandex : {'revenue': 179, 'cost': 153, 'ROI': '16.99'}\n"
     ]
    }
   ],
   "source": [
    "results = {\n",
    "'vk': {'revenue': 103, 'cost': 98},\n",
    "'yandex': {'revenue': 179, 'cost': 153},\n",
    "'facebook': {'revenue': 103, 'cost': 110},\n",
    "'adwords': {'revenue': 35, 'cost': 34},\n",
    "'twitter': {'revenue': 11, 'cost': 24},\n",
    "}\n",
    "for site, info in results.items():\n",
    "    k = '{:.2f}'.format((info['revenue'] / info['cost'] - 1) * 100)\n",
    "    info['ROI'] = k\n",
    "#print((results))\n",
    "list_keys = list(results.keys())\n",
    "list_keys.sort()\n",
    "for i in list_keys:\n",
    "    print(i, ':', results[i])\n",
    "#print(sorted(iterable,key = None, reverse = False))\n",
    "# from collections  import OrderedDict\n",
    "# sorted_dict = OrderedDict(sorted(results.items(), key=lambda x: -x[1]))\n",
    "# print(sorted_dict)\n",
    "\n",
    "   "
   ]
  },
  {
   "cell_type": "markdown",
   "metadata": {},
   "source": [
    "Задача 4.\n",
    "Дана переменная, в которой хранится статистика рекламных каналов по объемам продаж (пример структуры данных приведен ниже). Напишите программу, которая возвращает название канала с максимальным объемом продаж.\n",
    "\n",
    "Пример работы программы:\n",
    "\n",
    "stats = {‘facebook’: 55, ‘yandex’: 115, ‘vk’: 120, ‘google’: 99, ‘email’: 42, ‘ok’: 98}\n",
    "\n",
    "Результат: Максимальный объем продаж на рекламном канале: vk\n"
   ]
  },
  {
   "cell_type": "code",
   "execution_count": 136,
   "metadata": {},
   "outputs": [
    {
     "name": "stdout",
     "output_type": "stream",
     "text": [
      "Максимальный объем продаж на рекламном канале: vk\n"
     ]
    }
   ],
   "source": [
    "stats = {'facebook': 55, 'yandex': 115, 'vk': 120, 'google': 99, 'email': 42, 'ok': 98}\n",
    "#разделение переменную со статистикой на два списка\n",
    "channel = list(stats.keys()) # список каналов\n",
    "sales = list(stats.values()) # список объёмов продаж\n",
    "# print(channel)\n",
    "# print(sales)\n",
    "# поиск максимального элемента в списке объёмов продаж\n",
    "sales_maxim = sales[0]\n",
    "max_number = 0\n",
    "for i in range(len(sales)):\n",
    "    if sales[i] > sales_maxim:\n",
    "        sales_maxim = sales[i]\n",
    "        max_number = i\n",
    "print('Максимальный объем продаж на рекламном канале:', channel[max_number])"
   ]
  }
 ],
 "metadata": {
  "kernelspec": {
   "display_name": "Python 3",
   "language": "python",
   "name": "python3"
  },
  "language_info": {
   "codemirror_mode": {
    "name": "ipython",
    "version": 3
   },
   "file_extension": ".py",
   "mimetype": "text/x-python",
   "name": "python",
   "nbconvert_exporter": "python",
   "pygments_lexer": "ipython3",
   "version": "3.8.5"
  }
 },
 "nbformat": 4,
 "nbformat_minor": 4
}
