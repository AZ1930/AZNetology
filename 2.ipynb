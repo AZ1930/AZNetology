{
 "cells": [
  {
   "cell_type": "markdown",
   "metadata": {},
   "source": [
    "Задача 1."
   ]
  },
  {
   "cell_type": "code",
   "execution_count": 1,
   "metadata": {},
   "outputs": [
    {
     "name": "stdout",
     "output_type": "stream",
     "text": [
      "Букв в слове  4\n",
      "букв четное кол-во, поэтому две средние es\n"
     ]
    }
   ],
   "source": [
    "word = 'test'\n",
    "letter_n = len(word)\n",
    "print('Букв в слове ', letter_n)\n",
    "if letter_n % 2 == 0:\n",
    "    print('букв четное кол-во, поэтому две средние', word[int(letter_n/2)-1] + word[int(letter_n/2)])\n",
    "else:\n",
    "    print('букв нечетное кол-во, поэтому средняя', word[int((letter_n)/2)])"
   ]
  },
  {
   "cell_type": "markdown",
   "metadata": {},
   "source": [
    "Задача 2."
   ]
  },
  {
   "cell_type": "code",
   "execution_count": 2,
   "metadata": {},
   "outputs": [
    {
     "name": "stdout",
     "output_type": "stream",
     "text": [
      "Введите число 1\n",
      "Введите число 2\n",
      "Введите число 3\n",
      "Введите число 4\n",
      "Введите число 0\n",
      "Сумма всех до первого нуля = 10.0\n"
     ]
    }
   ],
   "source": [
    "summa = 0\n",
    "i = float(input('Введите число '))\n",
    "while i != 0:\n",
    "    summa = summa + i\n",
    "    i = float(input('Введите число '))\n",
    "print('Сумма всех до первого нуля =', summa) "
   ]
  },
  {
   "cell_type": "markdown",
   "metadata": {},
   "source": [
    "Задача 3.\n",
    "Мы делаем MVP dating-сервиса, и у нас есть список парней и девушек.\n",
    "Выдвигаем гипотезу: лучшие рекомендации мы получим, если просто отсортируем имена по алфавиту и познакомим людей с одинаковыми индексами после сортировки! Но мы не будем никого знакомить, если кто-то может остаться без пары:\n",
    "\n",
    "Примеры работы программы:\n",
    "\n",
    "boys = [‘Peter’, ‘Alex’, ‘John’, ‘Arthur’, ‘Richard’]\n",
    "girls = [‘Kate’, ‘Liza’, ‘Kira’, ‘Emma’, ‘Trisha’]\n",
    "Результат:\n",
    "\n",
    "Идеальные пары:\n",
    "Alex и Emma\n",
    "Arthur и Kate\n",
    "John и Kira\n",
    "Peter и Liza\n",
    "Richard и Trisha\n",
    "boys = [‘Peter’, ‘Alex’, ‘John’, ‘Arthur’, ‘Richard’, ‘Michael’]\n",
    "girls = [‘Kate’, ‘Liza’, ‘Kira’, ‘Emma’, ‘Trisha’]\n",
    "Результат:\n",
    "Внимание, кто-то может остаться без пары!"
   ]
  },
  {
   "cell_type": "code",
   "execution_count": 3,
   "metadata": {},
   "outputs": [
    {
     "name": "stdout",
     "output_type": "stream",
     "text": [
      "Идеальные пары:\n",
      "Alex  и  Emma\n",
      "Arthur  и  Kate\n",
      "John  и  Kira\n",
      "Peter  и  Liza\n",
      "Richard  и  Trisha\n"
     ]
    }
   ],
   "source": [
    "boys = ['Peter', 'Alex', 'John', 'Arthur', 'Richard']\n",
    "girls = ['Kate', 'Liza', 'Kira', 'Emma', 'Trisha']\n",
    "lenboys = len(boys)\n",
    "lengirls = len(girls)\n",
    "boys_sort = sorted(boys) # отсортированные списки \n",
    "girls_sort = sorted(girls)\n",
    "num_man = 0\n",
    "if lenboys == lengirls:\n",
    "    print('Идеальные пары:')\n",
    "    while num_man <= (lenboys - 1):\n",
    "        print(boys_sort[num_man],' и ', girls_sort[num_man])\n",
    "        num_man = num_man + 1\n",
    "else:\n",
    "    print('Внимание, кто-то может остаться без пары!')  "
   ]
  },
  {
   "cell_type": "markdown",
   "metadata": {},
   "source": [
    "Задача 3. По рекомендациям преподавателя.\n",
    "в задаче с парами сортировку так же можно было поместить под условие, \n",
    "чтобы она выполнялась только тогда, когда точно будет необходимо;"
   ]
  },
  {
   "cell_type": "code",
   "execution_count": 14,
   "metadata": {},
   "outputs": [
    {
     "name": "stdout",
     "output_type": "stream",
     "text": [
      "Идеальные пары:\n",
      "Alex  и  Emma\n",
      "Arthur  и  Kate\n",
      "John  и  Kira\n",
      "Peter  и  Liza\n",
      "Richard  и  Trisha\n"
     ]
    }
   ],
   "source": [
    "# с сортировкой под условием, сортировка выполняется тогда, когда это необходимо\n",
    "boys = ['Peter', 'Alex', 'John', 'Arthur', 'Richard']\n",
    "girls = ['Kate', 'Liza', 'Kira', 'Emma', 'Trisha']\n",
    "num_man = 0\n",
    "if len(boys) == len(girls):\n",
    "    boys_sort = sorted(boys) # отсортированные списки \n",
    "    girls_sort = sorted(girls)\n",
    "    print('Идеальные пары:')\n",
    "    while num_man <= (lenboys - 1):\n",
    "        print(boys_sort[num_man],' и ', girls_sort[num_man])\n",
    "        num_man = num_man + 1\n",
    "else:\n",
    "    print('Внимание, кто-то может остаться без пары!')  "
   ]
  },
  {
   "cell_type": "markdown",
   "metadata": {},
   "source": [
    "Задача 4."
   ]
  },
  {
   "cell_type": "code",
   "execution_count": 4,
   "metadata": {},
   "outputs": [
    {
     "name": "stdout",
     "output_type": "stream",
     "text": [
      "Средняя температура в странах:\n",
      "Thailand 23.86\n",
      "Germany 13.80\n",
      "Russia 3.71\n",
      "Poland 12.00\n",
      "Конец программы\n"
     ]
    }
   ],
   "source": [
    "# Фаренгейты в Цельсии\n",
    "countries_temperature = [\n",
    "['Thailand', [75.2, 77, 78.8, 73.4, 68, 75.2, 77]],\n",
    "['Germany', [57.2, 55.4, 59, 59, 53.6]],\n",
    "['Russia', [35.6, 37.4, 39.2, 41, 42.8, 39.2, 35.6]],\n",
    "['Poland', [50, 50, 53.6, 57.2, 55.4, 55.4]]\n",
    "]\n",
    "k_countries = 0                                 # количество стран\n",
    "print('Средняя температура в странах:')\n",
    "while k_countries < len(countries_temperature):\n",
    "    sum_temp = 0.0                              # сумма всех измерений для одной страны\n",
    "    k_kl = 0                                    # количество измерений температур у каждой страны\n",
    "    while k_kl < len(countries_temperature [k_countries] [1]):\n",
    "        sum_temp = sum_temp + ((countries_temperature [k_countries] [1] [k_kl]) - 32) * (5 / 9) # перевод фаренгейтов в цельсий\n",
    "        k_kl = k_kl + 1\n",
    "    print(countries_temperature[k_countries] [0], \"{0:.2f}\".format((sum_temp/ k_kl)))\n",
    "    k_countries = k_countries + 1\n"
   ]
  },
  {
   "cell_type": "code",
   "execution_count": null,
   "metadata": {},
   "outputs": [],
   "source": [
    "Задача 4. По рекомендациям преподавателя. \n",
    "в 4 задаче можно было обойтись без вложенного цикла, \n",
    "если использовать sum и len для определения средней температуре по стране:\n",
    "1\n",
    "2\n",
    "3\n",
    "for element in countries_temperature:\n",
    "   avg_temp = sum(element[1]) / len(element[1])\n",
    "   print(f\"Средняя температура в {element[0]} - {round((avg_temp - 32)*5/9, 1)} C\")"
   ]
  },
  {
   "cell_type": "code",
   "execution_count": 11,
   "metadata": {},
   "outputs": [
    {
     "name": "stdout",
     "output_type": "stream",
     "text": [
      "Средняя температура в Thailand - 23.86 C\n",
      "Средняя температура в Germany - 13.8 C\n",
      "Средняя температура в Russia - 3.71 C\n",
      "Средняя температура в Poland - 12.0 C\n"
     ]
    }
   ],
   "source": [
    "# Фаренгейты в Цельсии без вложенного цикла\n",
    "countries_temperature = [\n",
    "['Thailand', [75.2, 77, 78.8, 73.4, 68, 75.2, 77]],\n",
    "['Germany', [57.2, 55.4, 59, 59, 53.6]],\n",
    "['Russia', [35.6, 37.4, 39.2, 41, 42.8, 39.2, 35.6]],\n",
    "['Poland', [50, 50, 53.6, 57.2, 55.4, 55.4]]\n",
    "]\n",
    "average_temp_coun = 0\n",
    "for countries_elem in countries_temperature:\n",
    "    average_temp_coun = sum(countries_elem[1])/len(countries_elem[1])\n",
    "    print(f\"Средняя температура в {countries_elem[0]} - {round((average_temp_coun - 32)*5/9, 2)} C\")\n"
   ]
  },
  {
   "cell_type": "code",
   "execution_count": null,
   "metadata": {},
   "outputs": [],
   "source": []
  },
  {
   "cell_type": "markdown",
   "metadata": {},
   "source": [
    "Задача 5."
   ]
  },
  {
   "cell_type": "markdown",
   "metadata": {},
   "source": [
    "Дан поток логов по количеству просмотренных страниц для каждого пользователя.\n",
    "Вам необходимо написать алгоритм, который считает среднее значение просмотров на пользователя.\n",
    "Т. е. надо посчитать отношение суммы всех просмотров к количеству уникальных пользователей."
   ]
  },
  {
   "cell_type": "code",
   "execution_count": 13,
   "metadata": {},
   "outputs": [
    {
     "name": "stdout",
     "output_type": "stream",
     "text": [
      "sum = 3\n",
      "sum = 7\n",
      "sum = 8\n",
      "sum = 21\n",
      "sum = 28\n",
      "sum = 32\n",
      "sum = 42\n",
      "sum = 61\n",
      "sum = 65\n",
      "sum = 73\n",
      "sum = 82\n",
      "sum = 93\n",
      "user =  4\n",
      "Среднее количество просмотров на уникального пользователя:  23.25\n"
     ]
    }
   ],
   "source": [
    "#Задача 5.\n",
    "#частный случай: работает только для однозначных номеров пользователей\n",
    "stream = [\n",
    "'2018-01-01,user1,3',\n",
    "'2018-01-07,user1,4',\n",
    "'2018-03-29,user1,1',\n",
    "'2018-04-04,user1,13',\n",
    "'2018-01-05,user2,7',\n",
    "'2018-06-14,user3,4',\n",
    "'2018-07-02,user3,10',\n",
    "'2018-03-21,user4,19',\n",
    "'2018-03-22,user4,4',\n",
    "'2018-04-22,user4,8',\n",
    "'2018-05-03,user4,9',\n",
    "'2018-05-11,user4,11',\n",
    "]\n",
    "k_stream = len(stream)\n",
    "i = 0 # счетчик строкu\n",
    "user = 1 # счетчик пользователей \n",
    "sum_all = 0 # сумма всех посещений\n",
    "while i < k_stream:\n",
    "    sum_all = sum_all + int(stream[i] [17:])\n",
    "    print('sum =', sum_all)\n",
    "    i = i + 1\n",
    "    if (i < k_stream) and (int(stream[i] [15:16]) != int(stream[i-1] [15:16])):\n",
    "        user = user + 1\n",
    "print('user = ', user)\n",
    "print('Среднее количество просмотров на уникального пользователя: ', sum_all/user)\n"
   ]
  },
  {
   "cell_type": "markdown",
   "metadata": {},
   "source": [
    "Задача 5.по рекомендациям преподавателя.\n",
    "решение 5 задачи у вас не является в полной мере универсальным, т.к. вы берете срезы. Лучше было использовать split:\n",
    "1\n",
    "2\n",
    "3\n",
    "4\n",
    "5\n",
    "6\n",
    "7\n",
    "8\n",
    "9\n",
    "users_list = []\n",
    "views = 0\n",
    " \n",
    "for el in stream:\n",
    "  splitted_el = el.split(',')\n",
    "  if splitted_el[1] not in users_list:\n",
    "    users_list.append(splitted_el[1])\n",
    "  views += int(splitted_el[2])\n",
    "print(f'Среднее количество просмотров на уникального пользователя: {views/len(users_list)}')"
   ]
  },
  {
   "cell_type": "code",
   "execution_count": 26,
   "metadata": {},
   "outputs": [
    {
     "name": "stdout",
     "output_type": "stream",
     "text": [
      "split = ['2018-01-01', 'user1', '3']\n",
      "split = ['2018-01-07', 'user1', '4']\n",
      "split = ['2018-03-29', 'user1', '1']\n",
      "split = ['2018-04-04', 'user1', '13']\n",
      "split = ['2018-01-05', 'user2', '7']\n",
      "split = ['2018-06-14', 'user3', '4']\n",
      "split = ['2018-07-02', 'user3', '10']\n",
      "split = ['2018-03-21', 'user4', '19']\n",
      "split = ['2018-03-22', 'user4', '4']\n",
      "split = ['2018-04-22', 'user4', '8']\n",
      "split = ['2018-05-03', 'user4', '9']\n",
      "split = ['2018-05-11', 'user4', '11']\n",
      "Среднее количество просмотров на уникального пользователя:  23.25\n"
     ]
    }
   ],
   "source": [
    "# с использованием split\n",
    "stream = [\n",
    "'2018-01-01,user1,3',\n",
    "'2018-01-07,user1,4',\n",
    "'2018-03-29,user1,1',\n",
    "'2018-04-04,user1,13',\n",
    "'2018-01-05,user2,7',\n",
    "'2018-06-14,user3,4',\n",
    "'2018-07-02,user3,10',\n",
    "'2018-03-21,user4,19',\n",
    "'2018-03-22,user4,4',\n",
    "'2018-04-22,user4,8',\n",
    "'2018-05-03,user4,9',\n",
    "'2018-05-11,user4,11',\n",
    "]\n",
    "users_list = [] # список уникаьных пользователей\n",
    "scans = 0 # кол-во просмотров\n",
    "for elem in stream:\n",
    "    print('split =', elem.split(','))\n",
    "    splitted_elem = elem.split(',')\n",
    "    if splitted_elem[1] not in users_list:\n",
    "        users_list.append(splitted_elem[1])\n",
    "    scans = scans + int(splitted_elem[2])\n",
    "print('Среднее количество просмотров на уникального пользователя: ', scans / len(users_list))    "
   ]
  },
  {
   "cell_type": "code",
   "execution_count": 17,
   "metadata": {},
   "outputs": [],
   "source": []
  },
  {
   "cell_type": "markdown",
   "metadata": {},
   "source": [
    "Задача 6."
   ]
  },
  {
   "cell_type": "markdown",
   "metadata": {},
   "source": [
    "Необходимо у пользователя запрашивать набор чисел разделенных пробелом. \n",
    "В результате должны выводиться числа, которые повторяются в вводе более одного раза."
   ]
  },
  {
   "cell_type": "code",
   "execution_count": 51,
   "metadata": {},
   "outputs": [
    {
     "name": "stdout",
     "output_type": "stream",
     "text": [
      "Введите однозначные числа через одиночный пробел 1 2 3 2 3 4\n",
      "original list  ['1', ' ', '2', ' ', '3', ' ', '2', ' ', '3', ' ', '4']\n",
      "more than 1 -  23\n"
     ]
    }
   ],
   "source": [
    "# работает только для однозначных чисел \n",
    "import copy\n",
    "list_number = list(input('Введите однозначные числа через одиночный пробел '))\n",
    "original_list = copy.copy(list_number) # сохранение исходного списка\n",
    "print('original list ', list_number)\n",
    "# удаление пробелов во введеном списке\n",
    "i = 0\n",
    "p = len(list_number)\n",
    "while i < len(list_number):    \n",
    "    if (list_number[i] == ' '):\n",
    "        del(list_number[i])\n",
    "    i = i + 1\n",
    "#print('without space', list_number)\n",
    "# удаление повторяющихся чисел\n",
    "i = 0\n",
    "while i < len(list_number):    \n",
    "    j = i + 1\n",
    "    while j < len(list_number):\n",
    "        if (list_number[i] != list_number[j]):\n",
    "            j = j + 1\n",
    "        else:\n",
    "            del(list_number[j])\n",
    "    i = i + 1\n",
    "#print ('without duplicates', list_number)\n",
    "# подсчет кол-ва вхождений каждого числа в исходном списке\n",
    "new_2 = '' # новая строковая, в которую добвляем только те числа, которые повторяются в исходномм более 1 раза\n",
    "for k in range(0, len(list_number)):\n",
    "    chislo = list_number[k]\n",
    "    p = int(original_list.count(chislo))\n",
    "    if p > 1:\n",
    "        new_2 = new_2 + list_number[k] \n",
    "print('more than 1 - ', new_2)\n",
    "        \n",
    "            "
   ]
  },
  {
   "cell_type": "code",
   "execution_count": null,
   "metadata": {},
   "outputs": [],
   "source": []
  }
 ],
 "metadata": {
  "kernelspec": {
   "display_name": "Python 3",
   "language": "python",
   "name": "python3"
  },
  "language_info": {
   "codemirror_mode": {
    "name": "ipython",
    "version": 3
   },
   "file_extension": ".py",
   "mimetype": "text/x-python",
   "name": "python",
   "nbconvert_exporter": "python",
   "pygments_lexer": "ipython3",
   "version": "3.8.5"
  }
 },
 "nbformat": 4,
 "nbformat_minor": 4
}
